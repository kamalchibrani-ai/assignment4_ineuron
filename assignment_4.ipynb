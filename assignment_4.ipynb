{
  "nbformat": 4,
  "nbformat_minor": 0,
  "metadata": {
    "colab": {
      "name": "assignment_4.ipynb",
      "provenance": []
    },
    "kernelspec": {
      "name": "python3",
      "display_name": "Python 3"
    }
  },
  "cells": [
    {
      "cell_type": "markdown",
      "metadata": {
        "id": "sBaIJ2T37Io-",
        "colab_type": "text"
      },
      "source": [
        "#link for [problem statement](https://drive.google.com/file/d/1RtSFUNsSwinUcq7AjmLhsSrXo57mDb_D/view)"
      ]
    },
    {
      "cell_type": "markdown",
      "metadata": {
        "id": "tunA2x7rPcs9",
        "colab_type": "text"
      },
      "source": [
        "#1.1 Write a Python Program(with class concepts) to find the area of the triangle using the below formula.\n",
        "`area = (s*(s-a)*(s-b)*(s-c)) ** 0.5`\n",
        "\n",
        "Function to take the length of the sides of triangle from user should be defined in the parent\n",
        "class and function to calculate the area should be defined in subclass."
      ]
    },
    {
      "cell_type": "code",
      "metadata": {
        "id": "IKotW1Nnb4bD",
        "colab_type": "code",
        "outputId": "1c65f901-4943-4530-c6cd-920a068c56b6",
        "colab": {
          "base_uri": "https://localhost:8080/",
          "height": 34
        }
      },
      "source": [
        "import math#final\n",
        "\n",
        "class inputt:\n",
        "  def __init__(self , a , b , c):\n",
        "    self.a = a\n",
        "    self.b = b\n",
        "    self.c = c\n",
        "  \n",
        "  def __str__(self):\n",
        "    return \"the sides of the triangle are \\n a = {} \\n b = {} \\n c = {}\".format(self.a , self.b , self.c)\n",
        "\n",
        "\n",
        "class triangle(inputt):\n",
        "  def __init__(self , *args):\n",
        "    super(triangle,self).__init__(*args)\n",
        "    \n",
        "    self.s = (self.a + self.b + self.c)/2\n",
        "\n",
        "  def area(self):\n",
        "    return math.sqrt(self.s*(self.s - self.a)*(self.s - self.b)*(self.s - self.c))\n",
        "\n",
        "\n",
        "\n",
        "kamla = triangle(4,3,5)\n",
        "kamla.area()\n",
        "    \n"
      ],
      "execution_count": 0,
      "outputs": [
        {
          "output_type": "execute_result",
          "data": {
            "text/plain": [
              "6.0"
            ]
          },
          "metadata": {
            "tags": []
          },
          "execution_count": 70
        }
      ]
    },
    {
      "cell_type": "markdown",
      "metadata": {
        "id": "KspB8FW9t9kP",
        "colab_type": "text"
      },
      "source": [
        "#1.2 \n",
        "Write a function filter_long_words() that takes a list of words and an integer n and returns\n",
        "the list of words that are longer than n."
      ]
    },
    {
      "cell_type": "code",
      "metadata": {
        "id": "Qq49OhsihVQP",
        "colab_type": "code",
        "outputId": "949daa4f-4650-41b5-8912-db8e9266601b",
        "colab": {
          "base_uri": "https://localhost:8080/",
          "height": 35
        }
      },
      "source": [
        "temp = \"Lorem ipsum dolor sit amet consectetur adipiscing elit Cras diam lacus hendrerit sit amet nisi nec aliquet sagittis elit Curabitur\"\n",
        "\n",
        "ls = temp.split(' ')\n",
        "\n",
        "\n",
        "def filter_long_words(ls , n=2):#final\n",
        "  ls_of_words = []\n",
        "  for i in ls:\n",
        "    if len(i) > n:\n",
        "      ls_of_words.append(i)\n",
        "  return ls_of_words\n",
        "\n",
        "filter_long_words(ls , 7)"
      ],
      "execution_count": 0,
      "outputs": [
        {
          "output_type": "execute_result",
          "data": {
            "text/plain": [
              "['consectetur', 'adipiscing', 'hendrerit', 'sagittis', 'Curabitur']"
            ]
          },
          "metadata": {
            "tags": []
          },
          "execution_count": 5
        }
      ]
    },
    {
      "cell_type": "markdown",
      "metadata": {
        "id": "4QoPO_eXRqRz",
        "colab_type": "text"
      },
      "source": [
        "#2.1\n",
        "Write a Python program using function concept that maps list of words into a list of integers\n",
        "representing the lengths of the corresponding words.\n",
        "Hint: If a list [ ab,cde,erty] is passed on to the python function output should come as [2,3,4]\n",
        "Here 2,3 and 4 are the lengths of the words in the list."
      ]
    },
    {
      "cell_type": "code",
      "metadata": {
        "id": "2osSoYzYR3Xy",
        "colab_type": "code",
        "colab": {}
      },
      "source": [
        "temp = \"Lorem ipsum dolor sit amet consectetur adipiscing elit Cras diam lacus hendrerit sit amet nisi nec aliquet sagittis elit Curabitur\"\n",
        "ls2 = temp.split(' ')\n",
        "\n",
        "def len_of_words_in_list(lst) -> list : \n",
        "  temp2 = []\n",
        "  \"This prints a passed string into this function\"\n",
        "  for i in ls2:\n",
        "    # print(i)\n",
        "    temp2.append(len(i))\n",
        "  \n",
        "  return temp2\n"
      ],
      "execution_count": 0,
      "outputs": []
    },
    {
      "cell_type": "code",
      "metadata": {
        "id": "fQM4sBHHSAtn",
        "colab_type": "code",
        "outputId": "22f5604e-f45a-484d-edf5-b55fbed691e8",
        "colab": {
          "base_uri": "https://localhost:8080/",
          "height": 35
        }
      },
      "source": [
        "len_of_words_in_list(ls2)"
      ],
      "execution_count": 0,
      "outputs": [
        {
          "output_type": "execute_result",
          "data": {
            "text/plain": [
              "[5, 5, 5, 3, 4, 11, 10, 4, 4, 4, 5, 9, 3, 4, 4, 3, 7, 8, 4, 9]"
            ]
          },
          "metadata": {
            "tags": []
          },
          "execution_count": 10
        }
      ]
    },
    {
      "cell_type": "markdown",
      "metadata": {
        "id": "M3tME2S-6bty",
        "colab_type": "text"
      },
      "source": [
        "#2.2 Write a Python function which takes a character (i.e. a string of length 1) and returns True if it is a vowel, False otherwise."
      ]
    },
    {
      "cell_type": "code",
      "metadata": {
        "id": "TVmyerlJT-_L",
        "colab_type": "code",
        "colab": {}
      },
      "source": [
        "vowels = ['a', 'e', 'i', 'o', 'u', 'A', 'E', 'I', 'O', 'U'] #final\n",
        "def vowel():\n",
        "  char = input('please enter a char''\\n')\n",
        "  if len(char) == 1 and char in vowels:\n",
        "    print(True)\n",
        "  else:\n",
        "    print(False)\n",
        "\n",
        "      \n"
      ],
      "execution_count": 0,
      "outputs": []
    },
    {
      "cell_type": "code",
      "metadata": {
        "id": "8fVxPuso_aid",
        "colab_type": "code",
        "colab": {}
      },
      "source": [
        ""
      ],
      "execution_count": 0,
      "outputs": []
    }
  ]
}